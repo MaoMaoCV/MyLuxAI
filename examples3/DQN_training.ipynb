{
 "cells": [
  {
   "cell_type": "code",
   "execution_count": null,
   "id": "49181ccb",
   "metadata": {},
   "outputs": [],
   "source": [
    "#!pip install kaggle-environments -U"
   ]
  },
  {
   "cell_type": "code",
   "execution_count": null,
   "id": "57b2ad02",
   "metadata": {},
   "outputs": [],
   "source": [
    "import torch\n",
    "device = torch.device('cuda' if torch.cuda.is_available() else 'cpu')\n",
    "device\n",
    "print(device)"
   ]
  },
  {
   "cell_type": "code",
   "execution_count": null,
   "id": "29061181",
   "metadata": {},
   "outputs": [],
   "source": [
    "import argparse\n",
    "import glob\n",
    "import os\n",
    "import random\n",
    "from typing import Callable\n",
    "\n",
    "from stable_baselines3 import DQN  # pip install stable-baselines3\n",
    "from stable_baselines3.common.callbacks import CheckpointCallback\n",
    "from stable_baselines3.common.utils import set_random_seed\n",
    "from stable_baselines3.common.vec_env import SubprocVecEnv\n",
    "\n",
    "from importlib import reload\n",
    "import agent_policy\n",
    "reload(agent_policy) # Reload the file from disk incase the above agent-writing cell block was edited\n",
    "from agent_policy import AgentPolicy\n",
    "\n",
    "from luxai2021.env.agent import Agent\n",
    "from luxai2021.env.lux_env import LuxEnvironment\n",
    "from luxai2021.game.constants import LuxMatchConfigs_Default\n",
    "\n",
    "\n",
    "# Default Lux configs\n",
    "configs = LuxMatchConfigs_Default\n",
    "\n",
    "# Create a default opponent agent\n",
    "opponent = AgentPolicy(mode=\"inference\", model=model)\n",
    "\n",
    "# Create a RL agent in training mode\n",
    "player = AgentPolicy(mode=\"train\")\n",
    "\n",
    "# Create the Lux environment\n",
    "env = LuxEnvironment(configs=configs,\n",
    "                     learning_agent=player,\n",
    "                     opponent_agent=opponent)\n",
    "\n",
    "# Define the model, you can pick other RL algos from Stable Baselines3 instead if you like\n",
    "model = DQN(\"MlpPolicy\",\n",
    "                env,\n",
    "                verbose=1,\n",
    "                tensorboard_log=\"./lux_tensorboard2/\",\n",
    "                learning_rate=0.001,\n",
    "                gamma=0.999,\n",
    "                #gae_lambda=0.95,\n",
    "                batch_size=2048 * 8,\n",
    "                #n_steps=2048 * 8\n",
    "            )\n",
    "\n",
    "# Define a learning rate schedule\n",
    "# (number of steps, learning_rate)\n",
    "schedule = [\n",
    "    #(2000000, 0.01),\n",
    "    (10000000, 0.001),\n",
    "    (10000000, 0.0001),\n",
    "    #(600, 0.001),\n",
    "    #(600, 0.0001),\n",
    "]"
   ]
  },
  {
   "cell_type": "code",
   "execution_count": null,
   "id": "d03dc95d",
   "metadata": {},
   "outputs": [],
   "source": [
    "from stable_baselines3.common.utils import get_schedule_fn\n",
    "\n",
    "print(\"Training model...\")\n",
    "run_id = 1\n",
    "\n",
    "# Save a checkpoint every 1M steps\n",
    "checkpoint_callback = CheckpointCallback(save_freq=1000000, #1000000\n",
    "                                         save_path='./models_2/',\n",
    "                                         name_prefix=f'rl_model_{run_id}')\n",
    "\n",
    "# Train the policy\n",
    "for steps, learning_rate in schedule:\n",
    "    model.lr_schedule = get_schedule_fn(learning_rate)\n",
    "    model.learn(total_timesteps=steps,\n",
    "                callback=checkpoint_callback,\n",
    "                reset_num_timesteps = False)\n",
    "\n",
    "# Save final model\n",
    "model.save(path=f'models_2/model_2.zip')\n",
    "\n",
    "print(\"Done training model.\")"
   ]
  },
  {
   "cell_type": "code",
   "execution_count": null,
   "id": "f472d2da",
   "metadata": {},
   "outputs": [],
   "source": [
    "# Move the dependent packages into kaggle submissions\n",
    "!mv luxai2021 kaggle_submissions\n",
    "!mv stable_baselines3 kaggle_submissions\n",
    "!rm ./kaggle_submissions/agent_policy.py\n",
    "!cp agent_policy.py kaggle_submissions\n",
    "\n",
    "# Copy the agent and model to the submission \n",
    "!cp ./agent_policy.py kaggle_submissions\n",
    "!cp ./models_2/model_2.zip kaggle_submissions\n",
    "\n",
    "!ls kaggle_submissions"
   ]
  },
  {
   "cell_type": "code",
   "execution_count": null,
   "id": "c8fdafb8",
   "metadata": {},
   "outputs": [],
   "source": [
    "!tar -czf submission_2.tar.gz -C kaggle_submissions .\n",
    "!ls"
   ]
  }
 ],
 "metadata": {
  "kernelspec": {
   "display_name": "Python (py310)",
   "language": "python",
   "name": "myenv310"
  },
  "language_info": {
   "codemirror_mode": {
    "name": "ipython",
    "version": 3
   },
   "file_extension": ".py",
   "mimetype": "text/x-python",
   "name": "python",
   "nbconvert_exporter": "python",
   "pygments_lexer": "ipython3",
   "version": "3.10.8"
  }
 },
 "nbformat": 4,
 "nbformat_minor": 5
}
